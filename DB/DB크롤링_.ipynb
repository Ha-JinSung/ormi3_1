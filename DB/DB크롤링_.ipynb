{
  "nbformat": 4,
  "nbformat_minor": 0,
  "metadata": {
    "colab": {
      "provenance": []
    },
    "kernelspec": {
      "name": "python3",
      "display_name": "Python 3"
    },
    "language_info": {
      "name": "python"
    }
  },
  "cells": [
    {
      "cell_type": "code",
      "execution_count": null,
      "metadata": {
        "colab": {
          "base_uri": "https://localhost:8080/"
        },
        "id": "4xswJxjM2Y9S",
        "outputId": "53041614-bff4-448b-b3fe-896f0e70523b"
      },
      "outputs": [
        {
          "output_type": "stream",
          "name": "stdout",
          "text": [
            "[Book(메모혁신 Notion(노션) 활용 가이드, 7000, ['이호준', '이준호', '김혜원', '김유진', '차경림', '김진', '현지연', '정승한']), Book(이력서 작성 가이드, 10000, ['강혜진', '김유진', '김혜원', '김진', '이범재', '이호준', '원유선', '박누리', '차경림', '최원범', '한재현']), Book(제주코딩베이스캠프 Code Festival: Python 100제 1부, 0, ['이호준', '강민정', '김유진', '정윤하', '최원범']), Book(튜토리얼로 배우는 HTML&CSS, 4900, ['이호준', '박민균', '양지혜', '정민준', '박소영', '전유빈']), Book(코딩도장 튜토리얼로 배우는 Python 1편 object, 3000, ['이호준', '정민준', '배희성', '김덕주', '한승협']), Book(코딩도장 튜토리얼로 배우는 python 2편 제어문, 4900, ['이호준', '우지훈', '박소영', '허재영']), Book(코딩도장 튜토리얼로 배우는 Python 문제풀이, 0, ['이호준', '전유빈', '김태범', '한승협', '김혜원', '강민정']), Book(타노스의 건틀릿 알고리즘 With Python, 0, ['이호준', '한승협', '강민정', '신민욱']), Book(xlsxwriter 튜토리얼로 배우는 Python 엑셀 프로그래밍, 0, ['이호준', '강상권', '오재원', '전진환', '문형철', '이현창']), Book(러플 튜토리얼로 배우는 Python, 4900, ['이호준', '배희성', '양지혜', '박소영', '김수연', '정민준']), Book(인공지능을 활용한 업무자동화 With Google Developers Group JEJU, 0, ['이호준', '이준호', '현암', '윤현담', '김루비', '이동민', '유승엽', '박서윤', '김채린', '한승협', '안상우', '장성원', '전진환', '강민성', '조민구', '전창삼'])]\n"
          ]
        }
      ],
      "source": [
        "import requests\n",
        "from bs4 import BeautifulSoup\n",
        "import sqlite3\n",
        "import json\n",
        "\n",
        "class Book:\n",
        "\n",
        "    def __init__(self, title, price, authors):\n",
        "        self.title = title\n",
        "        self.price = price\n",
        "        self.authors = authors\n",
        "        self.author = [author.strip() for author in authors.split(\",\")]\n",
        "\n",
        "    def __str__(self):\n",
        "        return f\"Book({self.title}, {self.price}, {self.author})\"\n",
        "\n",
        "    def __repr__(self):\n",
        "        return f\"Book({self.title}, {self.price}, {self.author})\"\n",
        "\n",
        "    def to_dict(self):\n",
        "        return {\n",
        "            \"title\": self.title,\n",
        "            \"price\": self.price,\n",
        "            \"author\": self.author,\n",
        "        }\n",
        "\n",
        "    def to_list(self):\n",
        "        return [self.title, self.price, self.author]\n",
        "\n",
        "# 요구사항 1. book 크롤링한 데이터를 데이터베이스에 담기\n",
        "url = 'https://paullab.co.kr/bookservice/'\n",
        "response = requests.get(url)\n",
        "response.encoding = 'utf-8'\n",
        "html = response.text\n",
        "\n",
        "soup = BeautifulSoup(html, 'html.parser')\n",
        "book_details = soup.select('.book_detail')\n",
        "\n",
        "books_data = []\n",
        "for item in book_details:\n",
        "    book_name = item.select('.book_name')[0].text.strip()\n",
        "    book_price = int(item.select('.book_info')[0].text[3:].strip().replace(',', '').replace('무료', '0').replace('원', ''))\n",
        "    book_author = item.select('.book_info')[1].text[3:].strip()\n",
        "    books_data.append(Book(book_name, book_price, book_author))\n",
        "\n",
        "print(books_data)\n",
        "\n",
        "db = sqlite3.connect('books.db')\n",
        "conn = db.cursor()\n",
        "\n",
        "## 데이터베이스를 생성\n",
        "conn.execute(\"CREATE TABLE book_crawler (id INTEGER, title TEXT, price INTEGER, author TEXT)\")\n",
        "\n",
        "## 데이터 삽입\n",
        "for idx, item in enumerate(books_data, 1):\n",
        "    conn.execute(f\"INSERT INTO book_crawler VALUES ({idx}, '{item.title}', '{item.price}', '{item.authors}')\")\n",
        "\n",
        "db.commit()\n",
        "db.close()\n",
        "\n",
        "# 요구사항2. 데이터베이스를 읽습니다.\n",
        "db = sqlite3.connect('books.db')\n",
        "conn = db.cursor()\n",
        "\n",
        "## 데이터 rows에 가져오기\n",
        "rows = conn.execute(\"SELECT id, title, price, author FROM book_crawler\")\n",
        "\n",
        "\n",
        "# 요구사항3. 데이터베이스를 JSON 형태로 출력하기. 출력 이름은 output.json\n",
        "rows_array = []\n",
        "for row in rows:\n",
        "    rows_array.append({\n",
        "        'id': row[0],\n",
        "        'title': row[1],\n",
        "        'price': row[2],\n",
        "        'author': row[3]\n",
        "    })\n",
        "\n",
        "with open('output.json', 'w', encoding='utf-8') as f:\n",
        "    json.dump(rows_array, f, ensure_ascii=False, indent=4)\n",
        "\n",
        "db.close()"
      ]
    }
  ]
}