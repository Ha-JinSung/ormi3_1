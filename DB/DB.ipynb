{
  "nbformat": 4,
  "nbformat_minor": 0,
  "metadata": {
    "colab": {
      "provenance": []
    },
    "kernelspec": {
      "name": "python3",
      "display_name": "Python 3"
    },
    "language_info": {
      "name": "python"
    }
  },
  "cells": [
    {
      "cell_type": "markdown",
      "source": [
        "# 데이터베이스 연결 및 쿼리 실행"
      ],
      "metadata": {
        "id": "yPMwz1HkCFco"
      }
    },
    {
      "cell_type": "code",
      "execution_count": null,
      "metadata": {
        "id": "UXCWdvTfAY3Y"
      },
      "outputs": [],
      "source": [
        "import sqlite3\n",
        "\n",
        "conn = sqlite3.connect('ex1.db')\n",
        "c = conn.cursor()\n",
        "\n",
        "c.execute('''CREATE TABLE books (id integer, title text, price integer)''')\n",
        "\n",
        "c.execute('''INSERT INTO books VALUES (1, 'python 가이드', 5000)''')\n",
        "c.execute('''INSERT INTO books VALUES (2, 'js 가이드', 5000)''')\n",
        "\n",
        "conn.commit()\n",
        "conn.close()"
      ]
    },
    {
      "cell_type": "markdown",
      "source": [
        "# 데이터 조회"
      ],
      "metadata": {
        "id": "WMQqLQgHCNjb"
      }
    },
    {
      "cell_type": "code",
      "source": [
        "conn = sqlite3.connect('ex1.db')\n",
        "c = conn.cursor()\n",
        "\n",
        "# 데이터 조회\n",
        "for row in c.execute('SELECT * FROM books ORDER BY id'):\n",
        "    print(row)\n",
        "\n",
        "# 연결 종료\n",
        "conn.close()"
      ],
      "metadata": {
        "colab": {
          "base_uri": "https://localhost:8080/"
        },
        "id": "k3uLR7y8Bzew",
        "outputId": "a14201ad-887c-4e22-e941-28122d4a02fb"
      },
      "execution_count": null,
      "outputs": [
        {
          "output_type": "stream",
          "name": "stdout",
          "text": [
            "(1, 'python 가이드', 5000)\n",
            "(2, 'js 가이드', 5000)\n"
          ]
        }
      ]
    },
    {
      "cell_type": "markdown",
      "source": [
        "# 데이터 수정"
      ],
      "metadata": {
        "id": "KCh2guR0CWz0"
      }
    },
    {
      "cell_type": "code",
      "source": [
        "import sqlite3\n",
        "\n",
        "conn = sqlite3.connect('ex2.db')\n",
        "c = conn.cursor()\n",
        "\n",
        "c.execute('''CREATE TABLE books (id integer, title text, price integer)''')\n",
        "\n",
        "c.execute('''INSERT INTO books VALUES (1, 'python 가이드', 5000)''')\n",
        "\n",
        "for i in range(10):\n",
        "    c.execute(f\"INSERT INTO books VALUES ({i}, 'js 가이드', {i*1000})\")\n",
        "\n",
        "conn.commit()\n",
        "conn.close()"
      ],
      "metadata": {
        "id": "5r3zXkeNCW7o"
      },
      "execution_count": null,
      "outputs": []
    },
    {
      "cell_type": "code",
      "source": [
        "conn = sqlite3.connect('ex2.db')\n",
        "c = conn.cursor()\n",
        "\n",
        "# 데이터 조회\n",
        "for row in c.execute('SELECT * FROM books ORDER BY id'):\n",
        "    print(row)\n",
        "\n",
        "# 연결 종료\n",
        "conn.close()"
      ],
      "metadata": {
        "colab": {
          "base_uri": "https://localhost:8080/"
        },
        "id": "9Y2XN-0oDIgE",
        "outputId": "7e65078b-3dd0-4005-ae9a-1467f4f2ec19"
      },
      "execution_count": null,
      "outputs": [
        {
          "output_type": "stream",
          "name": "stdout",
          "text": [
            "(0, 'js 가이드', 0)\n",
            "(1, 'python 가이드', 5000)\n",
            "(1, 'js 가이드', 1000)\n",
            "(2, 'js 가이드', 2000)\n",
            "(3, 'js 가이드', 3000)\n",
            "(4, 'js 가이드', 4000)\n",
            "(5, 'js 가이드', 5000)\n",
            "(6, 'js 가이드', 6000)\n",
            "(7, 'js 가이드', 7000)\n",
            "(8, 'js 가이드', 8000)\n",
            "(9, 'js 가이드', 9000)\n"
          ]
        }
      ]
    },
    {
      "cell_type": "markdown",
      "source": [
        "# 3"
      ],
      "metadata": {
        "id": "f5TcbikVDjZT"
      }
    },
    {
      "cell_type": "code",
      "source": [
        "## 실습 3\n",
        "import sqlite3\n",
        "\n",
        "data = {\n",
        "    'id': [1, 2, 3],\n",
        "    'title': ['1', '2', '3'],\n",
        "    'content': ['11', '22', '33', '44', '55']\n",
        "}\n",
        "\n",
        "# 데이터베이스에 연결\n",
        "conn = sqlite3.connect('ex3.db')\n",
        "\n",
        "# 커서 생성\n",
        "cursor = conn.cursor()\n",
        "\n",
        "# post 테이블 생성\n",
        "cursor.execute('CREATE TABLE post (id INTEGER, title TEXT, content TEXT)')\n",
        "\n",
        "# 데이터 삽입\n",
        "for i in range(len(data['id'])):\n",
        "    cursor.execute('INSERT INTO post VALUES (?, ?, ?)', (data['id'][i], data['title'][i], data['content'][i]))\n",
        "\n",
        "# 커밋(변경 사항 저장)\n",
        "conn.commit()\n",
        "\n",
        "# 연결 닫기\n",
        "conn.close()"
      ],
      "metadata": {
        "id": "4uG7M2ybDjNV"
      },
      "execution_count": null,
      "outputs": []
    },
    {
      "cell_type": "code",
      "source": [
        "conn = sqlite3.connect('ex3.db')\n",
        "c = conn.cursor()\n",
        "\n",
        "# 데이터 조회\n",
        "for row in c.execute('SELECT * FROM post'):\n",
        "    print(row)\n",
        "\n",
        "# 연결 종료\n",
        "conn.close()"
      ],
      "metadata": {
        "colab": {
          "base_uri": "https://localhost:8080/"
        },
        "id": "aArfSIv3DuGf",
        "outputId": "6c189d23-490f-41b1-b3ba-8c3cd5ea9888"
      },
      "execution_count": null,
      "outputs": [
        {
          "output_type": "stream",
          "name": "stdout",
          "text": [
            "(1, '1', '11')\n",
            "(2, '2', '22')\n",
            "(3, '3', '33')\n"
          ]
        }
      ]
    },
    {
      "cell_type": "markdown",
      "source": [
        "# 4\n"
      ],
      "metadata": {
        "id": "a4fo6LjGDvLy"
      }
    },
    {
      "cell_type": "code",
      "source": [
        "# 여기까지 되었다면 데이터 (크롤링 데이터, JSON 데이터, CSV 데이터)를 가지고서\n",
        "# 1. 직접 퀴리를 사용 해서 Django DB에 넣는 것이 가능하다.\n",
        "# 2. db load를 사용해서 Django DB에 넣는것이 가능\n",
        "# 3. ORM을 사용해서 넣는것도 가능"
      ],
      "metadata": {
        "id": "R09V0JHODxQC"
      },
      "execution_count": null,
      "outputs": []
    },
    {
      "cell_type": "code",
      "source": [
        "conn = sqlite3.connect('db.sqlite3')\n",
        "c = conn.cursor()\n",
        "\n",
        "# 데이터 조회(데이터가 없어서 안나옵니다.)\n",
        "for row in c.execute('SELECT * FROM blog_movie'):\n",
        "    print(row)\n",
        "\n",
        "# 데이터 조회(데이터가 있어 나옵니다.)\n",
        "for row in c.execute('SELECT * FROM blog_post'):\n",
        "    print(row)\n",
        "\n",
        "# 연결 종료\n",
        "conn.close()"
      ],
      "metadata": {
        "colab": {
          "base_uri": "https://localhost:8080/"
        },
        "id": "nio_qzjEKFDk",
        "outputId": "2e4f8fc2-84d7-4f28-c3e1-4b075570f99e"
      },
      "execution_count": null,
      "outputs": [
        {
          "output_type": "stream",
          "name": "stdout",
          "text": [
            "(1, '1', '11', 'blog/images/2023/10/23/image.png', '', '2023-10-23 04:16:06.828523', '2023-10-23')\n",
            "(2, '2', '22', '', '', '2023-10-23 04:16:10.336227', '2023-10-23')\n",
            "(3, '3', '33', '', '', '2023-10-23 04:16:13.286429', '2023-10-23')\n",
            "(4, 'hi4', '44', '', '', '2023-10-23 04:43:52.197941', '2023-10-23')\n"
          ]
        }
      ]
    },
    {
      "cell_type": "markdown",
      "source": [
        "# 크롤링"
      ],
      "metadata": {
        "id": "eIym4EkyKZXG"
      }
    },
    {
      "cell_type": "code",
      "source": [
        "import requests\n",
        "from bs4 import BeautifulSoup\n",
        "\n",
        "paullab_url = 'http://paullab.co.kr'\n",
        "response = requests.get(paullab_url)\n",
        "response.encoding = 'utf-8'\n",
        "html = response.text\n",
        "\n",
        "soup = BeautifulSoup(html, 'html.parser')\n",
        "\n",
        "lecture_list = soup.select('.lecture ')        # lecture 클래스 탐색\n",
        "print(dir(lecture_list))\n",
        "for lecture in lecture_list:\n",
        "    print(lecture.text)"
      ],
      "metadata": {
        "colab": {
          "base_uri": "https://localhost:8080/"
        },
        "id": "ktMq5Sy2KUcp",
        "outputId": "ea7ded13-5684-45da-98f5-792425de0789"
      },
      "execution_count": null,
      "outputs": [
        {
          "output_type": "stream",
          "name": "stdout",
          "text": [
            "['__add__', '__class__', '__class_getitem__', '__contains__', '__delattr__', '__delitem__', '__dict__', '__dir__', '__doc__', '__eq__', '__format__', '__ge__', '__getattr__', '__getattribute__', '__getitem__', '__gt__', '__hash__', '__iadd__', '__imul__', '__init__', '__init_subclass__', '__iter__', '__le__', '__len__', '__lt__', '__module__', '__mul__', '__ne__', '__new__', '__reduce__', '__reduce_ex__', '__repr__', '__reversed__', '__rmul__', '__setattr__', '__setitem__', '__sizeof__', '__str__', '__subclasshook__', '__weakref__', 'append', 'clear', 'copy', 'count', 'extend', 'index', 'insert', 'pop', 'remove', 'reverse', 'sort', 'source']\n"
          ]
        }
      ]
    },
    {
      "cell_type": "code",
      "source": [
        "conn = sqlite3.connect('db.sqlite3')\n",
        "c = conn.cursor()\n",
        "\n",
        "# 데이터 조회(데이터가 없어서 안나옵니다.)\n",
        "for row in c.execute('SELECT * FROM blog_movie'):\n",
        "    print(row)\n",
        "\n",
        "# 데이터 조회(데이터가 있어 나옵니다.)\n",
        "for row in c.execute('SELECT * FROM blog_post'):\n",
        "    print(row)\n",
        "\n",
        "# 연결 종료\n",
        "conn.close()"
      ],
      "metadata": {
        "colab": {
          "base_uri": "https://localhost:8080/"
        },
        "id": "RY8C7On5N891",
        "outputId": "a7f4e6fb-ff71-4fec-b76f-bd2f51533282"
      },
      "execution_count": null,
      "outputs": [
        {
          "output_type": "stream",
          "name": "stdout",
          "text": [
            "(1, '1', '11', 'blog/images/2023/10/23/image.png', '', '2023-10-23 04:16:06.828523', '2023-10-23')\n",
            "(2, '2', '22', '', '', '2023-10-23 04:16:10.336227', '2023-10-23')\n",
            "(3, '3', '33', '', '', '2023-10-23 04:16:13.286429', '2023-10-23')\n",
            "(4, 'hi4', '44', '', '', '2023-10-23 04:43:52.197941', '2023-10-23')\n"
          ]
        }
      ]
    },
    {
      "cell_type": "code",
      "source": [
        "import requests\n",
        "from bs4 import BeautifulSoup\n",
        "\n",
        "url = 'https://paullab.co.kr/bookservice/'\n",
        "response = requests.get(url)\n",
        "response.encoding = 'utf-8'\n",
        "html = response.text\n",
        "\n",
        "soup = BeautifulSoup(html, 'html.parser')\n",
        "data = []\n",
        "\n",
        "# book_list = soup.select('.book_name, .book_info')        # lecture 클래스 탐색\n",
        "book_list = soup.select('.book_name')        # lecture 클래스 탐색\n",
        "for lecture in book_list:\n",
        "    data.append([lecture.text, 10])\n",
        "\n",
        "# print(type(data))\n",
        "data\n"
      ],
      "metadata": {
        "colab": {
          "base_uri": "https://localhost:8080/"
        },
        "id": "NwNM3iyoLx1C",
        "outputId": "5b31ff64-8cd4-44f5-d365-d27c02899675"
      },
      "execution_count": null,
      "outputs": [
        {
          "output_type": "execute_result",
          "data": {
            "text/plain": [
              "[['메모혁신 Notion(노션) 활용 가이드', 10],\n",
              " ['이력서 작성 가이드', 10],\n",
              " ['제주코딩베이스캠프 Code Festival: Python 100제 1부', 10],\n",
              " ['튜토리얼로 배우는 HTML&CSS', 10],\n",
              " ['코딩도장 튜토리얼로 배우는 Python 1편 object', 10],\n",
              " ['코딩도장 튜토리얼로 배우는 python 2편 제어문', 10],\n",
              " ['코딩도장 튜토리얼로 배우는 Python 문제풀이', 10],\n",
              " ['타노스의 건틀릿 알고리즘 With Python', 10],\n",
              " ['xlsxwriter 튜토리얼로 배우는 Python 엑셀 프로그래밍', 10],\n",
              " ['러플 튜토리얼로 배우는 Python', 10],\n",
              " ['인공지능을 활용한 업무자동화 With Google Developers Group JEJU', 10]]"
            ]
          },
          "metadata": {},
          "execution_count": 181
        }
      ]
    },
    {
      "cell_type": "code",
      "source": [
        "import sqlite3\n",
        "\n",
        "# 데이터베이스에 연결\n",
        "conn = sqlite3.connect('db.sqlite3')\n",
        "\n",
        "# 커서 생성\n",
        "cursor = conn.cursor()\n",
        "\n",
        "# 데이터 삽입\n",
        "for i in range(len(data)):\n",
        "    cursor.execute(f'INSERT INTO blog_movie VALUES ({i+1}, \"{data[i][0]}\", {data[i][1]})')\n",
        "\n",
        "# 커밋(변경 사항 저장)\n",
        "conn.commit()\n",
        "\n",
        "# 연결 닫기\n",
        "conn.close()"
      ],
      "metadata": {
        "colab": {
          "base_uri": "https://localhost:8080/",
          "height": 258
        },
        "id": "MwtiD114L1_4",
        "outputId": "d5ac276c-2a21-4e89-af40-c1444ff8264c"
      },
      "execution_count": null,
      "outputs": [
        {
          "output_type": "error",
          "ename": "OperationalError",
          "evalue": "ignored",
          "traceback": [
            "\u001b[0;31m---------------------------------------------------------------------------\u001b[0m",
            "\u001b[0;31mOperationalError\u001b[0m                          Traceback (most recent call last)",
            "\u001b[0;32m<ipython-input-217-d331413a4d7b>\u001b[0m in \u001b[0;36m<cell line: 10>\u001b[0;34m()\u001b[0m\n\u001b[1;32m      9\u001b[0m \u001b[0;31m# 데이터 삽입\u001b[0m\u001b[0;34m\u001b[0m\u001b[0;34m\u001b[0m\u001b[0m\n\u001b[1;32m     10\u001b[0m \u001b[0;32mfor\u001b[0m \u001b[0mi\u001b[0m \u001b[0;32min\u001b[0m \u001b[0mrange\u001b[0m\u001b[0;34m(\u001b[0m\u001b[0mlen\u001b[0m\u001b[0;34m(\u001b[0m\u001b[0mdata\u001b[0m\u001b[0;34m)\u001b[0m\u001b[0;34m)\u001b[0m\u001b[0;34m:\u001b[0m\u001b[0;34m\u001b[0m\u001b[0;34m\u001b[0m\u001b[0m\n\u001b[0;32m---> 11\u001b[0;31m     \u001b[0mcursor\u001b[0m\u001b[0;34m.\u001b[0m\u001b[0mexecute\u001b[0m\u001b[0;34m(\u001b[0m\u001b[0;34mf'INSERT INTO blog_movie VALUES ({i+1}, \"{data[i][0]}\", {data[i][1]})'\u001b[0m\u001b[0;34m)\u001b[0m\u001b[0;34m\u001b[0m\u001b[0;34m\u001b[0m\u001b[0m\n\u001b[0m\u001b[1;32m     12\u001b[0m \u001b[0;34m\u001b[0m\u001b[0m\n\u001b[1;32m     13\u001b[0m \u001b[0;31m# 커밋(변경 사항 저장)\u001b[0m\u001b[0;34m\u001b[0m\u001b[0;34m\u001b[0m\u001b[0m\n",
            "\u001b[0;31mOperationalError\u001b[0m: no such column: i"
          ]
        }
      ]
    },
    {
      "cell_type": "code",
      "source": [
        "conn = sqlite3.connect('db.sqlite3')\n",
        "c = conn.cursor()\n",
        "\n",
        "# 데이터 조회\n",
        "for row in c.execute('SELECT * FROM blog_movie'):\n",
        "    print(row)\n",
        "\n",
        "# 연결 종료\n",
        "conn.close()"
      ],
      "metadata": {
        "colab": {
          "base_uri": "https://localhost:8080/"
        },
        "id": "bXUJa313NYmb",
        "outputId": "2b2a64ba-a563-4e08-9d47-5417a072fddf"
      },
      "execution_count": null,
      "outputs": [
        {
          "output_type": "stream",
          "name": "stdout",
          "text": [
            "(1, '메모혁신 Notion(노션) 활용 가이드', 10)\n",
            "(2, '이력서 작성 가이드', 10)\n",
            "(3, '제주코딩베이스캠프 Code Festival: Python 100제 1부', 10)\n",
            "(4, '튜토리얼로 배우는 HTML&CSS', 10)\n",
            "(5, '코딩도장 튜토리얼로 배우는 Python 1편 object', 10)\n",
            "(6, '코딩도장 튜토리얼로 배우는 python 2편 제어문', 10)\n",
            "(7, '코딩도장 튜토리얼로 배우는 Python 문제풀이', 10)\n",
            "(8, '타노스의 건틀릿 알고리즘 With Python', 10)\n",
            "(9, 'xlsxwriter 튜토리얼로 배우는 Python 엑셀 프로그래밍', 10)\n",
            "(10, '러플 튜토리얼로 배우는 Python', 10)\n",
            "(11, '인공지능을 활용한 업무자동화 With Google Developers Group JEJU', 10)\n"
          ]
        }
      ]
    },
    {
      "cell_type": "markdown",
      "source": [
        "# 과제\n"
      ],
      "metadata": {
        "id": "AZex_g9DmK8Y"
      }
    },
    {
      "cell_type": "code",
      "source": [
        "conn = sqlite3.connect('output.json')\n",
        "c = conn.cursor()\n",
        "\n",
        "# 데이터 조회\n",
        "for row in c.execute('SELECT * FROM blog_book'):\n",
        "    print(row)\n",
        "\n",
        "# 연결 종료\n",
        "conn.close()"
      ],
      "metadata": {
        "id": "mjQ0x6AafIbE"
      },
      "execution_count": null,
      "outputs": []
    },
    {
      "cell_type": "code",
      "source": [
        "import requests\n",
        "from bs4 import BeautifulSoup\n",
        "import sqlite3\n",
        "import json\n",
        "\n",
        "url = 'https://paullab.co.kr/bookservice/'\n",
        "response = requests.get(url)\n",
        "response.encoding = 'utf-8'\n",
        "html = response.text\n",
        "\n",
        "soup = BeautifulSoup(html, 'html.parser')\n",
        "data = []\n",
        "\n",
        "book_items = soup.select('.book_detail')\n",
        "for id, book_item in enumerate(book_items, start=1):\n",
        "    title = book_item.select_one('.book_name').text.strip()\n",
        "    price = book_item.select('.book_info')[0].text.strip()\n",
        "    author = book_item.select('.book_info')[1].text.strip()\n",
        "    data.append({'t' : title, 'p' : price, 'a' : author})\n",
        "# print(data[0:3])\n",
        "# print(len(data[4:]))\n",
        "# data[4:]\n",
        "\n",
        "data\n",
        "print(type(data))\n",
        "\n",
        "conn = sqlite3.connect('books.db')\n",
        "c = conn.cursor()\n",
        "\n",
        "c.execute('''CREATE TABLE blog_book (id integer, title text, price integer, author text)''')\n",
        "\n",
        "# 데이터 삽입\n",
        "for i in range(len(data)):\n",
        "        c.execute(f\"(INSERT INTO blog_book VALUES ({i+1}, ('t'[i][0]), ('p'[i][1]), ('a'[i][2]))\")\n",
        "\n",
        "conn.commit()\n",
        "conn.close()\n",
        "\n",
        "# with open('output.json', 'w', encoding='utf-8') as f:\n",
        "#     json.dump(data, f)"
      ],
      "metadata": {
        "id": "emrLPdCXUI9Z",
        "colab": {
          "base_uri": "https://localhost:8080/",
          "height": 276
        },
        "outputId": "19158399-ec0d-466d-b1a9-50d8028b3432"
      },
      "execution_count": null,
      "outputs": [
        {
          "output_type": "stream",
          "name": "stdout",
          "text": [
            "<class 'list'>\n"
          ]
        },
        {
          "output_type": "error",
          "ename": "OperationalError",
          "evalue": "ignored",
          "traceback": [
            "\u001b[0;31m---------------------------------------------------------------------------\u001b[0m",
            "\u001b[0;31mOperationalError\u001b[0m                          Traceback (most recent call last)",
            "\u001b[0;32m<ipython-input-204-d10a9db09b36>\u001b[0m in \u001b[0;36m<cell line: 33>\u001b[0;34m()\u001b[0m\n\u001b[1;32m     32\u001b[0m \u001b[0;31m# 데이터 삽입\u001b[0m\u001b[0;34m\u001b[0m\u001b[0;34m\u001b[0m\u001b[0m\n\u001b[1;32m     33\u001b[0m \u001b[0;32mfor\u001b[0m \u001b[0mi\u001b[0m \u001b[0;32min\u001b[0m \u001b[0mrange\u001b[0m\u001b[0;34m(\u001b[0m\u001b[0mlen\u001b[0m\u001b[0;34m(\u001b[0m\u001b[0mdata\u001b[0m\u001b[0;34m)\u001b[0m\u001b[0;34m)\u001b[0m\u001b[0;34m:\u001b[0m\u001b[0;34m\u001b[0m\u001b[0;34m\u001b[0m\u001b[0m\n\u001b[0;32m---> 34\u001b[0;31m         \u001b[0mc\u001b[0m\u001b[0;34m.\u001b[0m\u001b[0mexecute\u001b[0m\u001b[0;34m(\u001b[0m\u001b[0;34mf\"(INSERT INTO blog_book VALUES ({i+1}, ('t'[i][0]), ('p'[i][1]), ('a'[i][2]))\"\u001b[0m\u001b[0;34m)\u001b[0m\u001b[0;34m\u001b[0m\u001b[0;34m\u001b[0m\u001b[0m\n\u001b[0m\u001b[1;32m     35\u001b[0m \u001b[0;34m\u001b[0m\u001b[0m\n\u001b[1;32m     36\u001b[0m \u001b[0mconn\u001b[0m\u001b[0;34m.\u001b[0m\u001b[0mcommit\u001b[0m\u001b[0;34m(\u001b[0m\u001b[0;34m)\u001b[0m\u001b[0;34m\u001b[0m\u001b[0;34m\u001b[0m\u001b[0m\n",
            "\u001b[0;31mOperationalError\u001b[0m: near \"(\": syntax error"
          ]
        }
      ]
    },
    {
      "cell_type": "code",
      "source": [
        "import requests\n",
        "from bs4 import BeautifulSoup\n",
        "\n",
        "url = 'https://paullab.co.kr/bookservice/'\n",
        "response = requests.get(url)\n",
        "response.encoding = 'utf-8'\n",
        "html = response.text\n",
        "\n",
        "soup = BeautifulSoup(html, 'html.parser')\n",
        "data = []\n",
        "\n",
        "book_items = soup.select('.book_detail')\n",
        "for id, book_item in enumerate(book_items, start=1):\n",
        "    title = book_item.select_one('.book_name').text.strip()\n",
        "    price = book_item.select('.book_info')[0].text.strip()\n",
        "    author = book_item.select('.book_info')[1].text.strip()\n",
        "    data.append({\"id\": id, \"title\": title, \"price\": price, \"author\": author})\n",
        "date\n",
        "\n",
        "# 데이터베이스에 연결\n",
        "conn = sqlite3.connect('homework4.db')\n",
        "\n",
        "# 커서 생성\n",
        "cursor = conn.cursor()\n",
        "\n",
        "# post 테이블 생성\n",
        "cursor.execute('CREATE TABLE post (id INTEGER, title TEXT, price INTEGER, author TEXT)')\n",
        "\n",
        "# 데이터 삽입\n",
        "for item in data:\n",
        "    cursor.execute('INSERT INTO post VALUES (?, ?, ?, ?)', (item['id'], item['title'], item['price'], item['author']))\n",
        "\n",
        "# 커밋(변경 사항 저장)\n",
        "conn.commit()\n",
        "\n",
        "cursor.execute('SELECT * FROM post')\n",
        "rows = cursor.fetchall()\n",
        "column_names = [column[0] for column in cursor.description]\n",
        "data = [dict(zip(column_names, row)) for row in rows]\n",
        "with open('output.json', 'w', encoding='utf-8') as f:\n",
        "    json.dump(data, f, ensure_ascii=False, indent=4)\n",
        "conn.close()"
      ],
      "metadata": {
        "colab": {
          "base_uri": "https://localhost:8080/"
        },
        "id": "1o0kyaenm8Xp",
        "outputId": "c6a4ff46-bf46-4812-dd83-f48997e59a20"
      },
      "execution_count": null,
      "outputs": [
        {
          "output_type": "execute_result",
          "data": {
            "text/plain": [
              "[{'id': 1,\n",
              "  'title': '메모혁신 Notion(노션) 활용 가이드',\n",
              "  'price': '가격: 7,000원',\n",
              "  'author': '저자: 이호준, 이준호, 김혜원, 김유진, 차경림, 김진, 현지연, 정승한'},\n",
              " {'id': 2,\n",
              "  'title': '이력서 작성 가이드',\n",
              "  'price': '가격: 10,000원',\n",
              "  'author': '저자: 강혜진, 김유진, 김혜원, 김진, 이범재, 이호준, 원유선, 박누리, 차경림, 최원범, 한재현'},\n",
              " {'id': 3,\n",
              "  'title': '제주코딩베이스캠프 Code Festival: Python 100제 1부',\n",
              "  'price': '가격: 무료',\n",
              "  'author': '저자: 이호준, 강민정, 김유진, 정윤하, 최원범'},\n",
              " {'id': 4,\n",
              "  'title': '튜토리얼로 배우는 HTML&CSS',\n",
              "  'price': '가격: 4,900원',\n",
              "  'author': '저자: 이호준, 박민균, 양지혜, 정민준, 박소영, 전유빈'},\n",
              " {'id': 5,\n",
              "  'title': '코딩도장 튜토리얼로 배우는 Python 1편 object',\n",
              "  'price': '가격: 3,000원',\n",
              "  'author': '저자: 이호준, 정민준, 배희성, 김덕주, 한승협'},\n",
              " {'id': 6,\n",
              "  'title': '코딩도장 튜토리얼로 배우는 python 2편 제어문',\n",
              "  'price': '가격: 4,900원',\n",
              "  'author': '저자: 이호준, 우지훈, 박소영, 허재영'},\n",
              " {'id': 7,\n",
              "  'title': '코딩도장 튜토리얼로 배우는 Python 문제풀이',\n",
              "  'price': '가격: 무료',\n",
              "  'author': '저자: 이호준, 전유빈, 김태범, 한승협, 김혜원, 강민정'},\n",
              " {'id': 8,\n",
              "  'title': '타노스의 건틀릿 알고리즘 With Python',\n",
              "  'price': '가격: 무료',\n",
              "  'author': '저자: 이호준, 한승협, 강민정, 신민욱'},\n",
              " {'id': 9,\n",
              "  'title': 'xlsxwriter 튜토리얼로 배우는 Python 엑셀 프로그래밍',\n",
              "  'price': '가격: 무료',\n",
              "  'author': '저자: 이호준, 강상권, 오재원, 전진환, 문형철, 이현창'},\n",
              " {'id': 10,\n",
              "  'title': '러플 튜토리얼로 배우는 Python',\n",
              "  'price': '가격: 4,900',\n",
              "  'author': '저자: 이호준, 배희성, 양지혜, 박소영, 김수연, 정민준'},\n",
              " {'id': 11,\n",
              "  'title': '인공지능을 활용한 업무자동화 With Google Developers Group JEJU',\n",
              "  'price': '가격: 무료',\n",
              "  'author': '저자: 이호준, 이준호, 현암, 윤현담, 김루비, 이동민, 유승엽, 박서윤, 김채린, 한승협, 안상우, 장성원, 전진환, 강민성, 조민구, 전창삼'}]"
            ]
          },
          "metadata": {},
          "execution_count": 184
        }
      ]
    },
    {
      "cell_type": "code",
      "source": [
        "import requests\n",
        "from bs4 import BeautifulSoup\n",
        "import sqlite3\n",
        "import json\n",
        "\n",
        "url = 'https://paullab.co.kr/bookservice/'\n",
        "response = requests.get(url)\n",
        "response.encoding = 'utf-8'\n",
        "html = response.text\n",
        "\n",
        "soup = BeautifulSoup(html, 'html.parser')\n",
        "book_data = []\n",
        "\n",
        "book_items = soup.select('.book_detail')\n",
        "for id, book_item in enumerate(book_items, start=1):\n",
        "    title = book_item.select_one('.book_name').text.strip()\n",
        "    price_info_element = book_item.select('.book_info')[0]\n",
        "    author_info_element = book_item.select('.book_info')[1]\n",
        "\n",
        "    price = None if price_info_element is None else price_info_element.text.strip()\n",
        "    author = None if author_info_element is None else author_info_element.text.strip()\n",
        "\n",
        "    # 이제 각 책의 정보를 딕셔너리 형태가 아닌 문자열로 저장합니다.\n",
        "    book_data.append(f\"{ {title}, {price}, {author} }\")\n",
        "\n",
        "conn = sqlite3.connect('books.db')\n",
        "c = conn.cursor()\n",
        "\n",
        "c.execute('''CREATE TABLE blog_book (id integer, info text)''')\n",
        "\n",
        "# 데이터 삽입\n",
        "for i in range(len(book_data)):\n",
        "        c.execute(f'INSERT INTO blog_movie VALUES (({i+1}, {book_data[i]})')\n",
        "\n",
        "conn.commit()\n",
        "conn.close()\n",
        "\n",
        "# JSON 파일로 저장하기 위한 처리.\n",
        "with open('data.json', 'w', encoding='utf-8') as f:\n",
        "    json.dump(book_data, f)\n"
      ],
      "metadata": {
        "colab": {
          "base_uri": "https://localhost:8080/",
          "height": 258
        },
        "id": "Hj98pz_NxKKb",
        "outputId": "d72b1047-69d6-4d49-ea2a-2771e5162071"
      },
      "execution_count": null,
      "outputs": [
        {
          "output_type": "error",
          "ename": "OperationalError",
          "evalue": "ignored",
          "traceback": [
            "\u001b[0;31m---------------------------------------------------------------------------\u001b[0m",
            "\u001b[0;31mOperationalError\u001b[0m                          Traceback (most recent call last)",
            "\u001b[0;32m<ipython-input-216-2581b587a7ed>\u001b[0m in \u001b[0;36m<cell line: 32>\u001b[0;34m()\u001b[0m\n\u001b[1;32m     31\u001b[0m \u001b[0;31m# 데이터 삽입\u001b[0m\u001b[0;34m\u001b[0m\u001b[0;34m\u001b[0m\u001b[0m\n\u001b[1;32m     32\u001b[0m \u001b[0;32mfor\u001b[0m \u001b[0mi\u001b[0m \u001b[0;32min\u001b[0m \u001b[0mrange\u001b[0m\u001b[0;34m(\u001b[0m\u001b[0mlen\u001b[0m\u001b[0;34m(\u001b[0m\u001b[0mbook_data\u001b[0m\u001b[0;34m)\u001b[0m\u001b[0;34m)\u001b[0m\u001b[0;34m:\u001b[0m\u001b[0;34m\u001b[0m\u001b[0;34m\u001b[0m\u001b[0m\n\u001b[0;32m---> 33\u001b[0;31m         \u001b[0mc\u001b[0m\u001b[0;34m.\u001b[0m\u001b[0mexecute\u001b[0m\u001b[0;34m(\u001b[0m\u001b[0;34mf'INSERT INTO blog_movie VALUES (({i+1}, {book_data[i]})'\u001b[0m\u001b[0;34m)\u001b[0m\u001b[0;34m\u001b[0m\u001b[0;34m\u001b[0m\u001b[0m\n\u001b[0m\u001b[1;32m     34\u001b[0m \u001b[0;34m\u001b[0m\u001b[0m\n\u001b[1;32m     35\u001b[0m \u001b[0mconn\u001b[0m\u001b[0;34m.\u001b[0m\u001b[0mcommit\u001b[0m\u001b[0;34m(\u001b[0m\u001b[0;34m)\u001b[0m\u001b[0;34m\u001b[0m\u001b[0;34m\u001b[0m\u001b[0m\n",
            "\u001b[0;31mOperationalError\u001b[0m: unrecognized token: \"{\""
          ]
        }
      ]
    }
  ]
}